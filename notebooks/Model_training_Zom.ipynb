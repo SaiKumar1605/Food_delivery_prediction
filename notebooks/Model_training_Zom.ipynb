{
 "cells": [
  {
   "cell_type": "code",
   "execution_count": 1,
   "metadata": {},
   "outputs": [],
   "source": [
    "import pandas as pd\n",
    "import numpy as np"
   ]
  },
  {
   "cell_type": "markdown",
   "metadata": {},
   "source": [
    "## Model Training"
   ]
  },
  {
   "cell_type": "code",
   "execution_count": 2,
   "metadata": {},
   "outputs": [
    {
     "data": {
      "text/html": [
       "<div>\n",
       "<style scoped>\n",
       "    .dataframe tbody tr th:only-of-type {\n",
       "        vertical-align: middle;\n",
       "    }\n",
       "\n",
       "    .dataframe tbody tr th {\n",
       "        vertical-align: top;\n",
       "    }\n",
       "\n",
       "    .dataframe thead th {\n",
       "        text-align: right;\n",
       "    }\n",
       "</style>\n",
       "<table border=\"1\" class=\"dataframe\">\n",
       "  <thead>\n",
       "    <tr style=\"text-align: right;\">\n",
       "      <th></th>\n",
       "      <th>ID</th>\n",
       "      <th>Delivery_person_ID</th>\n",
       "      <th>Delivery_person_Age</th>\n",
       "      <th>Delivery_person_Ratings</th>\n",
       "      <th>Restaurant_latitude</th>\n",
       "      <th>Restaurant_longitude</th>\n",
       "      <th>Delivery_location_latitude</th>\n",
       "      <th>Delivery_location_longitude</th>\n",
       "      <th>Order_Date</th>\n",
       "      <th>Time_Orderd</th>\n",
       "      <th>...</th>\n",
       "      <th>Weather_conditions</th>\n",
       "      <th>Road_traffic_density</th>\n",
       "      <th>Vehicle_condition</th>\n",
       "      <th>Type_of_order</th>\n",
       "      <th>Type_of_vehicle</th>\n",
       "      <th>multiple_deliveries</th>\n",
       "      <th>Festival</th>\n",
       "      <th>City</th>\n",
       "      <th>Distance</th>\n",
       "      <th>Time_taken_min</th>\n",
       "    </tr>\n",
       "  </thead>\n",
       "  <tbody>\n",
       "    <tr>\n",
       "      <th>0</th>\n",
       "      <td>0xcdcd</td>\n",
       "      <td>DEHRES17DEL01</td>\n",
       "      <td>36.0</td>\n",
       "      <td>4.2</td>\n",
       "      <td>30.327968</td>\n",
       "      <td>78.046106</td>\n",
       "      <td>30.397968</td>\n",
       "      <td>78.116106</td>\n",
       "      <td>12-02-2022</td>\n",
       "      <td>2022-12-02 21:55:00</td>\n",
       "      <td>...</td>\n",
       "      <td>Fog</td>\n",
       "      <td>Jam</td>\n",
       "      <td>2</td>\n",
       "      <td>Snack</td>\n",
       "      <td>motorcycle</td>\n",
       "      <td>3.0</td>\n",
       "      <td>No</td>\n",
       "      <td>Metropolitian</td>\n",
       "      <td>10.29</td>\n",
       "      <td>46</td>\n",
       "    </tr>\n",
       "    <tr>\n",
       "      <th>1</th>\n",
       "      <td>0xd987</td>\n",
       "      <td>KOCRES16DEL01</td>\n",
       "      <td>21.0</td>\n",
       "      <td>4.7</td>\n",
       "      <td>10.003064</td>\n",
       "      <td>76.307589</td>\n",
       "      <td>10.043064</td>\n",
       "      <td>76.347589</td>\n",
       "      <td>13-02-2022</td>\n",
       "      <td>2022-02-13 14:55:00</td>\n",
       "      <td>...</td>\n",
       "      <td>Stormy</td>\n",
       "      <td>High</td>\n",
       "      <td>1</td>\n",
       "      <td>Meal</td>\n",
       "      <td>motorcycle</td>\n",
       "      <td>1.0</td>\n",
       "      <td>No</td>\n",
       "      <td>Metropolitian</td>\n",
       "      <td>6.25</td>\n",
       "      <td>23</td>\n",
       "    </tr>\n",
       "    <tr>\n",
       "      <th>2</th>\n",
       "      <td>0x2784</td>\n",
       "      <td>PUNERES13DEL03</td>\n",
       "      <td>23.0</td>\n",
       "      <td>4.7</td>\n",
       "      <td>18.562450</td>\n",
       "      <td>73.916619</td>\n",
       "      <td>18.652450</td>\n",
       "      <td>74.006619</td>\n",
       "      <td>04-03-2022</td>\n",
       "      <td>2022-04-03 17:30:00</td>\n",
       "      <td>...</td>\n",
       "      <td>Sandstorms</td>\n",
       "      <td>Medium</td>\n",
       "      <td>1</td>\n",
       "      <td>Drinks</td>\n",
       "      <td>scooter</td>\n",
       "      <td>1.0</td>\n",
       "      <td>No</td>\n",
       "      <td>Metropolitian</td>\n",
       "      <td>13.80</td>\n",
       "      <td>21</td>\n",
       "    </tr>\n",
       "    <tr>\n",
       "      <th>3</th>\n",
       "      <td>0xc8b6</td>\n",
       "      <td>LUDHRES15DEL02</td>\n",
       "      <td>34.0</td>\n",
       "      <td>4.3</td>\n",
       "      <td>30.899584</td>\n",
       "      <td>75.809346</td>\n",
       "      <td>30.919584</td>\n",
       "      <td>75.829346</td>\n",
       "      <td>13-02-2022</td>\n",
       "      <td>2022-02-13 09:20:00</td>\n",
       "      <td>...</td>\n",
       "      <td>Sandstorms</td>\n",
       "      <td>Low</td>\n",
       "      <td>0</td>\n",
       "      <td>Buffet</td>\n",
       "      <td>motorcycle</td>\n",
       "      <td>0.0</td>\n",
       "      <td>No</td>\n",
       "      <td>Metropolitian</td>\n",
       "      <td>2.93</td>\n",
       "      <td>20</td>\n",
       "    </tr>\n",
       "    <tr>\n",
       "      <th>4</th>\n",
       "      <td>0xdb64</td>\n",
       "      <td>KNPRES14DEL02</td>\n",
       "      <td>24.0</td>\n",
       "      <td>4.7</td>\n",
       "      <td>26.463504</td>\n",
       "      <td>80.372929</td>\n",
       "      <td>26.593504</td>\n",
       "      <td>80.502929</td>\n",
       "      <td>14-02-2022</td>\n",
       "      <td>2022-02-14 19:50:00</td>\n",
       "      <td>...</td>\n",
       "      <td>Fog</td>\n",
       "      <td>Jam</td>\n",
       "      <td>1</td>\n",
       "      <td>Snack</td>\n",
       "      <td>scooter</td>\n",
       "      <td>1.0</td>\n",
       "      <td>No</td>\n",
       "      <td>Metropolitian</td>\n",
       "      <td>19.42</td>\n",
       "      <td>41</td>\n",
       "    </tr>\n",
       "  </tbody>\n",
       "</table>\n",
       "<p>5 rows × 22 columns</p>\n",
       "</div>"
      ],
      "text/plain": [
       "       ID Delivery_person_ID  Delivery_person_Age  Delivery_person_Ratings  \\\n",
       "0  0xcdcd      DEHRES17DEL01                 36.0                      4.2   \n",
       "1  0xd987      KOCRES16DEL01                 21.0                      4.7   \n",
       "2  0x2784     PUNERES13DEL03                 23.0                      4.7   \n",
       "3  0xc8b6     LUDHRES15DEL02                 34.0                      4.3   \n",
       "4  0xdb64      KNPRES14DEL02                 24.0                      4.7   \n",
       "\n",
       "   Restaurant_latitude  Restaurant_longitude  Delivery_location_latitude  \\\n",
       "0            30.327968             78.046106                   30.397968   \n",
       "1            10.003064             76.307589                   10.043064   \n",
       "2            18.562450             73.916619                   18.652450   \n",
       "3            30.899584             75.809346                   30.919584   \n",
       "4            26.463504             80.372929                   26.593504   \n",
       "\n",
       "   Delivery_location_longitude  Order_Date          Time_Orderd  ...  \\\n",
       "0                    78.116106  12-02-2022  2022-12-02 21:55:00  ...   \n",
       "1                    76.347589  13-02-2022  2022-02-13 14:55:00  ...   \n",
       "2                    74.006619  04-03-2022  2022-04-03 17:30:00  ...   \n",
       "3                    75.829346  13-02-2022  2022-02-13 09:20:00  ...   \n",
       "4                    80.502929  14-02-2022  2022-02-14 19:50:00  ...   \n",
       "\n",
       "  Weather_conditions  Road_traffic_density Vehicle_condition Type_of_order  \\\n",
       "0                Fog                   Jam                 2         Snack   \n",
       "1             Stormy                  High                 1          Meal   \n",
       "2         Sandstorms                Medium                 1        Drinks   \n",
       "3         Sandstorms                   Low                 0        Buffet   \n",
       "4                Fog                   Jam                 1         Snack   \n",
       "\n",
       "   Type_of_vehicle multiple_deliveries Festival           City Distance  \\\n",
       "0       motorcycle                 3.0       No  Metropolitian    10.29   \n",
       "1       motorcycle                 1.0       No  Metropolitian     6.25   \n",
       "2          scooter                 1.0       No  Metropolitian    13.80   \n",
       "3       motorcycle                 0.0       No  Metropolitian     2.93   \n",
       "4          scooter                 1.0       No  Metropolitian    19.42   \n",
       "\n",
       "  Time_taken_min  \n",
       "0             46  \n",
       "1             23  \n",
       "2             21  \n",
       "3             20  \n",
       "4             41  \n",
       "\n",
       "[5 rows x 22 columns]"
      ]
     },
     "execution_count": 2,
     "metadata": {},
     "output_type": "execute_result"
    }
   ],
   "source": [
    "df = pd.read_csv('eda_cleaned.csv')\n",
    "df.head()"
   ]
  },
  {
   "cell_type": "code",
   "execution_count": 3,
   "metadata": {},
   "outputs": [],
   "source": [
    "df=df.drop(labels=['ID','Delivery_person_ID','Restaurant_latitude','Restaurant_longitude','Delivery_location_latitude','Delivery_location_longitude','Order_Date','Time_Orderd','Time_Order_picked'],axis=1)"
   ]
  },
  {
   "cell_type": "code",
   "execution_count": 4,
   "metadata": {},
   "outputs": [],
   "source": [
    "## Independent and dependent features\n",
    "X = df.drop(labels=['Time_taken_min'],axis=1)\n",
    "Y = df[['Time_taken_min']]"
   ]
  },
  {
   "cell_type": "code",
   "execution_count": 5,
   "metadata": {},
   "outputs": [
    {
     "data": {
      "text/html": [
       "<div>\n",
       "<style scoped>\n",
       "    .dataframe tbody tr th:only-of-type {\n",
       "        vertical-align: middle;\n",
       "    }\n",
       "\n",
       "    .dataframe tbody tr th {\n",
       "        vertical-align: top;\n",
       "    }\n",
       "\n",
       "    .dataframe thead th {\n",
       "        text-align: right;\n",
       "    }\n",
       "</style>\n",
       "<table border=\"1\" class=\"dataframe\">\n",
       "  <thead>\n",
       "    <tr style=\"text-align: right;\">\n",
       "      <th></th>\n",
       "      <th>Time_taken_min</th>\n",
       "    </tr>\n",
       "  </thead>\n",
       "  <tbody>\n",
       "    <tr>\n",
       "      <th>0</th>\n",
       "      <td>46</td>\n",
       "    </tr>\n",
       "    <tr>\n",
       "      <th>1</th>\n",
       "      <td>23</td>\n",
       "    </tr>\n",
       "    <tr>\n",
       "      <th>2</th>\n",
       "      <td>21</td>\n",
       "    </tr>\n",
       "    <tr>\n",
       "      <th>3</th>\n",
       "      <td>20</td>\n",
       "    </tr>\n",
       "    <tr>\n",
       "      <th>4</th>\n",
       "      <td>41</td>\n",
       "    </tr>\n",
       "    <tr>\n",
       "      <th>...</th>\n",
       "      <td>...</td>\n",
       "    </tr>\n",
       "    <tr>\n",
       "      <th>33778</th>\n",
       "      <td>32</td>\n",
       "    </tr>\n",
       "    <tr>\n",
       "      <th>33779</th>\n",
       "      <td>36</td>\n",
       "    </tr>\n",
       "    <tr>\n",
       "      <th>33780</th>\n",
       "      <td>16</td>\n",
       "    </tr>\n",
       "    <tr>\n",
       "      <th>33781</th>\n",
       "      <td>26</td>\n",
       "    </tr>\n",
       "    <tr>\n",
       "      <th>33782</th>\n",
       "      <td>36</td>\n",
       "    </tr>\n",
       "  </tbody>\n",
       "</table>\n",
       "<p>33783 rows × 1 columns</p>\n",
       "</div>"
      ],
      "text/plain": [
       "       Time_taken_min\n",
       "0                  46\n",
       "1                  23\n",
       "2                  21\n",
       "3                  20\n",
       "4                  41\n",
       "...               ...\n",
       "33778              32\n",
       "33779              36\n",
       "33780              16\n",
       "33781              26\n",
       "33782              36\n",
       "\n",
       "[33783 rows x 1 columns]"
      ]
     },
     "execution_count": 5,
     "metadata": {},
     "output_type": "execute_result"
    }
   ],
   "source": [
    "Y"
   ]
  },
  {
   "cell_type": "code",
   "execution_count": 6,
   "metadata": {},
   "outputs": [
    {
     "name": "stdout",
     "output_type": "stream",
     "text": [
      "<class 'pandas.core.frame.DataFrame'>\n",
      "RangeIndex: 33783 entries, 0 to 33782\n",
      "Data columns (total 12 columns):\n",
      " #   Column                   Non-Null Count  Dtype  \n",
      "---  ------                   --------------  -----  \n",
      " 0   Delivery_person_Age      33783 non-null  float64\n",
      " 1   Delivery_person_Ratings  33783 non-null  float64\n",
      " 2   Prep_time                33783 non-null  float64\n",
      " 3   Weather_conditions       33783 non-null  object \n",
      " 4   Road_traffic_density     33783 non-null  object \n",
      " 5   Vehicle_condition        33783 non-null  int64  \n",
      " 6   Type_of_order            33783 non-null  object \n",
      " 7   Type_of_vehicle          33783 non-null  object \n",
      " 8   multiple_deliveries      33783 non-null  float64\n",
      " 9   Festival                 33783 non-null  object \n",
      " 10  City                     33783 non-null  object \n",
      " 11  Distance                 33783 non-null  float64\n",
      "dtypes: float64(5), int64(1), object(6)\n",
      "memory usage: 3.1+ MB\n"
     ]
    }
   ],
   "source": [
    "X.info()"
   ]
  },
  {
   "cell_type": "code",
   "execution_count": 7,
   "metadata": {},
   "outputs": [],
   "source": [
    "# Define which columns should be ordinal-encoded and which should be scaled\n",
    "Ordinal_cols = ['Road_traffic_density']\n",
    "Nominal_cols = ['Weather_conditions','Type_of_order','Type_of_vehicle','Festival','City']\n",
    "numerical_cols = X.select_dtypes(exclude='object').columns"
   ]
  },
  {
   "cell_type": "code",
   "execution_count": 8,
   "metadata": {},
   "outputs": [
    {
     "data": {
      "text/plain": [
       "array([3., 1., 0., 2.])"
      ]
     },
     "execution_count": 8,
     "metadata": {},
     "output_type": "execute_result"
    }
   ],
   "source": [
    "df.multiple_deliveries.unique()"
   ]
  },
  {
   "cell_type": "code",
   "execution_count": 9,
   "metadata": {},
   "outputs": [],
   "source": [
    "# Define the custom ranking for each ordinal variable\n",
    "Traffic_categories = ['Low','Medium','High','Jam']\n",
    "#Delivery_categories = ['D', 'E', 'F', 'G', 'H', 'I', 'J']\n",
    "#clarity_categories = ['I1','SI2','SI1','VS2','VS1','VVS2','VVS1','IF']"
   ]
  },
  {
   "cell_type": "code",
   "execution_count": 10,
   "metadata": {},
   "outputs": [],
   "source": [
    "from sklearn.impute import SimpleImputer ## HAndling Missing Values\n",
    "from sklearn.preprocessing import StandardScaler # HAndling Feature Scaling\n",
    "from sklearn.preprocessing import OrdinalEncoder # Ordinal Encoding\n",
    "from sklearn.preprocessing import OneHotEncoder #Onehot encoder\n",
    "## pipelines\n",
    "from sklearn.pipeline import Pipeline\n",
    "from sklearn.compose import ColumnTransformer"
   ]
  },
  {
   "cell_type": "code",
   "execution_count": 14,
   "metadata": {},
   "outputs": [],
   "source": [
    "## Numerical Pipeline\n",
    "num_pipeline=Pipeline(\n",
    "    steps=[\n",
    "    #('imputer',SimpleImputer(strategy='median')),\n",
    "    ('scaler',StandardScaler())\n",
    "\n",
    "    ]\n",
    "\n",
    ")\n",
    "\n",
    "# Categorigal Pipeline\n",
    "ord_pipeline=Pipeline(\n",
    "    steps=[\n",
    "    #('imputer',SimpleImputer(strategy='most_frequent')),\n",
    "    ('ordinalencoder',OrdinalEncoder(categories=[Traffic_categories])),\n",
    "    ('scaler',StandardScaler())\n",
    "    ]\n",
    "\n",
    ")\n",
    "\n",
    "# Categorigal Pipeline\n",
    "nom_pipeline=Pipeline(\n",
    "    steps=[\n",
    "    #('imputer',SimpleImputer(strategy='most_frequent')),\n",
    "    ('onehotencoder',OneHotEncoder(sparse=False)),\n",
    "    ('scaler',StandardScaler())\n",
    "    ]\n",
    "\n",
    ")\n",
    "\n",
    "preprocessor=ColumnTransformer([\n",
    "('num_pipeline',num_pipeline,numerical_cols),\n",
    "('ord_pipeline',ord_pipeline,Ordinal_cols),\n",
    "('nom_pipeline',nom_pipeline,Nominal_cols),\n",
    "])\n"
   ]
  },
  {
   "cell_type": "code",
   "execution_count": 15,
   "metadata": {},
   "outputs": [],
   "source": [
    "## Train test split\n",
    "\n",
    "from sklearn.model_selection import train_test_split\n",
    "\n",
    "X_train,X_test,y_train,y_test=train_test_split(X,Y,test_size=0.30,random_state=30)"
   ]
  },
  {
   "cell_type": "code",
   "execution_count": null,
   "metadata": {},
   "outputs": [],
   "source": [
    "cols_op = pd.Series(list(numerical_cols) + list(categorical_cols))\n",
    "cols_op"
   ]
  },
  {
   "cell_type": "code",
   "execution_count": 16,
   "metadata": {},
   "outputs": [
    {
     "ename": "AttributeError",
     "evalue": "Estimator ordinalencoder does not provide get_feature_names_out. Did you mean to call pipeline[:-1].get_feature_names_out()?",
     "output_type": "error",
     "traceback": [
      "\u001b[1;31m---------------------------------------------------------------------------\u001b[0m",
      "\u001b[1;31mAttributeError\u001b[0m                            Traceback (most recent call last)",
      "\u001b[1;32m~\\AppData\\Local\\Temp\\ipykernel_8616\\524536770.py\u001b[0m in \u001b[0;36m<module>\u001b[1;34m\u001b[0m\n\u001b[1;32m----> 1\u001b[1;33m \u001b[0mX_train\u001b[0m\u001b[1;33m=\u001b[0m\u001b[0mpd\u001b[0m\u001b[1;33m.\u001b[0m\u001b[0mDataFrame\u001b[0m\u001b[1;33m(\u001b[0m\u001b[0mpreprocessor\u001b[0m\u001b[1;33m.\u001b[0m\u001b[0mfit_transform\u001b[0m\u001b[1;33m(\u001b[0m\u001b[0mX_train\u001b[0m\u001b[1;33m)\u001b[0m\u001b[1;33m,\u001b[0m\u001b[0mcolumns\u001b[0m\u001b[1;33m=\u001b[0m\u001b[0mpreprocessor\u001b[0m\u001b[1;33m.\u001b[0m\u001b[0mget_feature_names_out\u001b[0m\u001b[1;33m(\u001b[0m\u001b[1;33m)\u001b[0m\u001b[1;33m)\u001b[0m\u001b[1;33m\u001b[0m\u001b[1;33m\u001b[0m\u001b[0m\n\u001b[0m\u001b[0;32m      2\u001b[0m \u001b[0mX_test\u001b[0m\u001b[1;33m=\u001b[0m\u001b[0mpd\u001b[0m\u001b[1;33m.\u001b[0m\u001b[0mDataFrame\u001b[0m\u001b[1;33m(\u001b[0m\u001b[0mpreprocessor\u001b[0m\u001b[1;33m.\u001b[0m\u001b[0mtransform\u001b[0m\u001b[1;33m(\u001b[0m\u001b[0mX_test\u001b[0m\u001b[1;33m)\u001b[0m\u001b[1;33m,\u001b[0m\u001b[0mcolumns\u001b[0m\u001b[1;33m=\u001b[0m\u001b[0mpreprocessor\u001b[0m\u001b[1;33m.\u001b[0m\u001b[0mget_feature_names_out\u001b[0m\u001b[1;33m(\u001b[0m\u001b[1;33m)\u001b[0m\u001b[1;33m)\u001b[0m\u001b[1;33m\u001b[0m\u001b[1;33m\u001b[0m\u001b[0m\n",
      "\u001b[1;32m~\\anaconda3\\lib\\site-packages\\sklearn\\compose\\_column_transformer.py\u001b[0m in \u001b[0;36mget_feature_names_out\u001b[1;34m(self, input_features)\u001b[0m\n\u001b[0;32m    479\u001b[0m         \u001b[0mtransformer_with_feature_names_out\u001b[0m \u001b[1;33m=\u001b[0m \u001b[1;33m[\u001b[0m\u001b[1;33m]\u001b[0m\u001b[1;33m\u001b[0m\u001b[1;33m\u001b[0m\u001b[0m\n\u001b[0;32m    480\u001b[0m         \u001b[1;32mfor\u001b[0m \u001b[0mname\u001b[0m\u001b[1;33m,\u001b[0m \u001b[0mtrans\u001b[0m\u001b[1;33m,\u001b[0m \u001b[0mcolumn\u001b[0m\u001b[1;33m,\u001b[0m \u001b[0m_\u001b[0m \u001b[1;32min\u001b[0m \u001b[0mself\u001b[0m\u001b[1;33m.\u001b[0m\u001b[0m_iter\u001b[0m\u001b[1;33m(\u001b[0m\u001b[0mfitted\u001b[0m\u001b[1;33m=\u001b[0m\u001b[1;32mTrue\u001b[0m\u001b[1;33m)\u001b[0m\u001b[1;33m:\u001b[0m\u001b[1;33m\u001b[0m\u001b[1;33m\u001b[0m\u001b[0m\n\u001b[1;32m--> 481\u001b[1;33m             feature_names_out = self._get_feature_name_out_for_transformer(\n\u001b[0m\u001b[0;32m    482\u001b[0m                 \u001b[0mname\u001b[0m\u001b[1;33m,\u001b[0m \u001b[0mtrans\u001b[0m\u001b[1;33m,\u001b[0m \u001b[0mcolumn\u001b[0m\u001b[1;33m,\u001b[0m \u001b[0minput_features\u001b[0m\u001b[1;33m\u001b[0m\u001b[1;33m\u001b[0m\u001b[0m\n\u001b[0;32m    483\u001b[0m             )\n",
      "\u001b[1;32m~\\anaconda3\\lib\\site-packages\\sklearn\\compose\\_column_transformer.py\u001b[0m in \u001b[0;36m_get_feature_name_out_for_transformer\u001b[1;34m(self, name, trans, column, feature_names_in)\u001b[0m\n\u001b[0;32m    452\u001b[0m         ):\n\u001b[0;32m    453\u001b[0m             \u001b[0mcolumn\u001b[0m \u001b[1;33m=\u001b[0m \u001b[0m_safe_indexing\u001b[0m\u001b[1;33m(\u001b[0m\u001b[0mfeature_names_in\u001b[0m\u001b[1;33m,\u001b[0m \u001b[0mcolumn\u001b[0m\u001b[1;33m)\u001b[0m\u001b[1;33m\u001b[0m\u001b[1;33m\u001b[0m\u001b[0m\n\u001b[1;32m--> 454\u001b[1;33m         \u001b[1;32mreturn\u001b[0m \u001b[0mtrans\u001b[0m\u001b[1;33m.\u001b[0m\u001b[0mget_feature_names_out\u001b[0m\u001b[1;33m(\u001b[0m\u001b[0mcolumn\u001b[0m\u001b[1;33m)\u001b[0m\u001b[1;33m\u001b[0m\u001b[1;33m\u001b[0m\u001b[0m\n\u001b[0m\u001b[0;32m    455\u001b[0m \u001b[1;33m\u001b[0m\u001b[0m\n\u001b[0;32m    456\u001b[0m     \u001b[1;32mdef\u001b[0m \u001b[0mget_feature_names_out\u001b[0m\u001b[1;33m(\u001b[0m\u001b[0mself\u001b[0m\u001b[1;33m,\u001b[0m \u001b[0minput_features\u001b[0m\u001b[1;33m=\u001b[0m\u001b[1;32mNone\u001b[0m\u001b[1;33m)\u001b[0m\u001b[1;33m:\u001b[0m\u001b[1;33m\u001b[0m\u001b[1;33m\u001b[0m\u001b[0m\n",
      "\u001b[1;32m~\\anaconda3\\lib\\site-packages\\sklearn\\pipeline.py\u001b[0m in \u001b[0;36mget_feature_names_out\u001b[1;34m(self, input_features)\u001b[0m\n\u001b[0;32m    749\u001b[0m         \u001b[1;32mfor\u001b[0m \u001b[0m_\u001b[0m\u001b[1;33m,\u001b[0m \u001b[0mname\u001b[0m\u001b[1;33m,\u001b[0m \u001b[0mtransform\u001b[0m \u001b[1;32min\u001b[0m \u001b[0mself\u001b[0m\u001b[1;33m.\u001b[0m\u001b[0m_iter\u001b[0m\u001b[1;33m(\u001b[0m\u001b[1;33m)\u001b[0m\u001b[1;33m:\u001b[0m\u001b[1;33m\u001b[0m\u001b[1;33m\u001b[0m\u001b[0m\n\u001b[0;32m    750\u001b[0m             \u001b[1;32mif\u001b[0m \u001b[1;32mnot\u001b[0m \u001b[0mhasattr\u001b[0m\u001b[1;33m(\u001b[0m\u001b[0mtransform\u001b[0m\u001b[1;33m,\u001b[0m \u001b[1;34m\"get_feature_names_out\"\u001b[0m\u001b[1;33m)\u001b[0m\u001b[1;33m:\u001b[0m\u001b[1;33m\u001b[0m\u001b[1;33m\u001b[0m\u001b[0m\n\u001b[1;32m--> 751\u001b[1;33m                 raise AttributeError(\n\u001b[0m\u001b[0;32m    752\u001b[0m                     \u001b[1;34m\"Estimator {} does not provide get_feature_names_out. \"\u001b[0m\u001b[1;33m\u001b[0m\u001b[1;33m\u001b[0m\u001b[0m\n\u001b[0;32m    753\u001b[0m                     \u001b[1;34m\"Did you mean to call pipeline[:-1].get_feature_names_out\"\u001b[0m\u001b[1;33m\u001b[0m\u001b[1;33m\u001b[0m\u001b[0m\n",
      "\u001b[1;31mAttributeError\u001b[0m: Estimator ordinalencoder does not provide get_feature_names_out. Did you mean to call pipeline[:-1].get_feature_names_out()?"
     ]
    }
   ],
   "source": [
    "X_train=pd.DataFrame(preprocessor.fit_transform(X_train),columns=preprocessor.get_feature_names_out())\n",
    "X_test=pd.DataFrame(preprocessor.transform(X_test),columns=preprocessor.get_feature_names_out())"
   ]
  },
  {
   "cell_type": "code",
   "execution_count": null,
   "metadata": {},
   "outputs": [],
   "source": [
    "X_train.head()"
   ]
  },
  {
   "cell_type": "code",
   "execution_count": null,
   "metadata": {},
   "outputs": [],
   "source": [
    "X_train.head()"
   ]
  },
  {
   "cell_type": "code",
   "execution_count": null,
   "metadata": {},
   "outputs": [],
   "source": [
    "## Model Training\n",
    "\n",
    "from sklearn.linear_model import LinearRegression,Lasso,Ridge,ElasticNet\n",
    "from sklearn.metrics import r2_score,mean_absolute_error,mean_squared_error"
   ]
  },
  {
   "cell_type": "code",
   "execution_count": null,
   "metadata": {},
   "outputs": [],
   "source": [
    "regression=LinearRegression()\n",
    "regression.fit(X_train,y_train)"
   ]
  },
  {
   "cell_type": "code",
   "execution_count": null,
   "metadata": {},
   "outputs": [],
   "source": [
    "regression.coef_"
   ]
  },
  {
   "cell_type": "code",
   "execution_count": null,
   "metadata": {},
   "outputs": [],
   "source": [
    "regression.intercept_"
   ]
  },
  {
   "cell_type": "code",
   "execution_count": null,
   "metadata": {},
   "outputs": [],
   "source": [
    "import numpy as np\n",
    "def evaluate_model(true, predicted):\n",
    "    mae = mean_absolute_error(true, predicted)\n",
    "    mse = mean_squared_error(true, predicted)\n",
    "    rmse = np.sqrt(mean_squared_error(true, predicted))\n",
    "    r2_square = r2_score(true, predicted)\n",
    "    return mae, rmse, r2_square"
   ]
  },
  {
   "cell_type": "code",
   "execution_count": null,
   "metadata": {},
   "outputs": [],
   "source": [
    "## Train multiple models\n",
    "\n",
    "models={\n",
    "    'LinearRegression':LinearRegression(),\n",
    "    'Lasso':Lasso(),\n",
    "    'Ridge':Ridge(),\n",
    "    'Elasticnet':ElasticNet()\n",
    "}\n",
    "trained_model_list=[]\n",
    "model_list=[]\n",
    "r2_list=[]\n",
    "\n",
    "for i in range(len(list(models))):\n",
    "    model=list(models.values())[i]\n",
    "    model.fit(X_train,y_train)\n",
    "\n",
    "    #Make Predictions\n",
    "    y_pred=model.predict(X_test)\n",
    "\n",
    "    mae, rmse, r2_square=evaluate_model(y_test,y_pred)\n",
    "\n",
    "    print(list(models.keys())[i])\n",
    "    model_list.append(list(models.keys())[i])\n",
    "\n",
    "    print('Model Training Performance')\n",
    "    print(\"RMSE:\",rmse)\n",
    "    print(\"MAE:\",mae)\n",
    "    print(\"R2 score\",r2_square*100)\n",
    "\n",
    "    r2_list.append(r2_square)\n",
    "    \n",
    "    print('='*35)\n",
    "    print('\\n')\n"
   ]
  },
  {
   "cell_type": "code",
   "execution_count": null,
   "metadata": {},
   "outputs": [],
   "source": [
    "model_list"
   ]
  },
  {
   "cell_type": "code",
   "execution_count": null,
   "metadata": {},
   "outputs": [],
   "source": []
  }
 ],
 "metadata": {
  "kernelspec": {
   "display_name": "Python 3 (ipykernel)",
   "language": "python",
   "name": "python3"
  },
  "language_info": {
   "codemirror_mode": {
    "name": "ipython",
    "version": 3
   },
   "file_extension": ".py",
   "mimetype": "text/x-python",
   "name": "python",
   "nbconvert_exporter": "python",
   "pygments_lexer": "ipython3",
   "version": "3.9.13"
  }
 },
 "nbformat": 4,
 "nbformat_minor": 2
}
